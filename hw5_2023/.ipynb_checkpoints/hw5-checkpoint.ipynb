{
 "cells": [
  {
   "cell_type": "markdown",
   "metadata": {},
   "source": [
    "# CS145 Howework 5\n",
    "\n",
    "\n",
    "<span style=\"color:red\"> **Important Note:** </span>\n",
    "HW5 is due on **11:59 PM PT, Jun 9 (Friday, Week 10)**. Please submit through GradeScope.\n",
    "\n",
    "## Print Out Your Name and UID\n",
    "\n",
    "<span style=\"color:blue\"> **Name: XXX, UID: XXX** </span>\n",
    "\n",
    "## Before You Start\n",
    "\n",
    "You need to first create HW5 conda environment by the given `cs145hw5.yml` file.\n",
    "\n",
    "```\n",
    "conda env create -f cs145hw5.yml\n",
    "conda activate hw4\n",
    "conda deactivate\n",
    "```\n",
    "OR \n",
    "\n",
    "```\n",
    "conda env create --name NAMEOFYOURCHOICE -f cs145hw5.yml \n",
    "conda activate NAMEOFYOURCHOICE\n",
    "conda deactivate\n",
    "```\n",
    "To view the list of your environments, use the following command:\n",
    "```\n",
    "conda env list\n",
    "```\n",
    "\n",
    "In this notebook, you must not delete any code cells in this notebook. If you change any code outside the blocks (such as some important hyperparameters) that you are allowed to edit (between STRART/END YOUR CODE HERE), you need to highlight these changes. You may add some additional cells to help explain your results and observations."
   ]
  },
  {
   "cell_type": "code",
   "execution_count": 1,
   "metadata": {},
   "outputs": [],
   "source": [
    "import numpy as np\n",
    "import pandas as pd\n",
    "import sys \n",
    "import random\n",
    "import math\n",
    "import matplotlib.pyplot as plt\n",
    "from IPython.display import Image\n",
    "from scipy.stats import multivariate_normal\n",
    "%load_ext autoreload\n",
    "%autoreload 2"
   ]
  },
  {
   "cell_type": "markdown",
   "metadata": {},
   "source": [
    "If you can successfully run the code above, there will be no problem for environment setting."
   ]
  },
  {
   "cell_type": "markdown",
   "metadata": {},
   "source": [
    "## 1. Frequent Pattern Mining for Set Data - Aprior Algorithm (24 pts)\n"
   ]
  },
  {
   "cell_type": "markdown",
   "metadata": {},
   "source": [
    "##### Table 1\n",
    "| TID | Items | \n",
    "| --- | --- | \n",
    "| 1 | b,c,j | \n",
    "| 2 | a,b,d |\n",
    "| 3 | a,c |\n",
    "| 4 | b,d | \n",
    "| 5 | a,b,c,e | \n",
    "| 6 | b,c,k| \n",
    "| 7 | a,c |\n",
    "| 8 | a,b,e,i | \n",
    "| 9 | b,d | \n",
    "| 10 | a,b,c,d |"
   ]
  },
  {
   "cell_type": "markdown",
   "metadata": {},
   "source": [
    "Given a transaction database shown in Table 1, answer the following questions. Let the parameter `min_support` be 4."
   ]
  },
  {
   "cell_type": "markdown",
   "metadata": {},
   "source": [
    "\n",
    "**Question**\n",
    "\n",
    "<span style=\"color:red\"> Note: This is a \"question-answer\" style problem. You do not need to code anything and you are required to calculate by hand (with a scientific calculator). </span>\n",
    "Find all the frequent patterns with min_support 4 using Apriori Algorithm (**sort them in ascending order w.r.t. the length.**) <br>"
   ]
  },
  {
   "cell_type": "markdown",
   "metadata": {},
   "source": [
    "#### Answer"
   ]
  },
  {
   "cell_type": "markdown",
   "metadata": {},
   "source": [
    "## 2. Apriori for Yelp (50 pts) "
   ]
  },
  {
   "cell_type": "markdown",
   "metadata": {},
   "source": [
    "In `apriori.py`, fill the missing lines with the parameters (already set in the code): `min_suppport=50` and `min_conf` = 0.25, and `ignore_one_iter_set=True`. Use the Yelp data `yelp.csv` and `id_nams.csv`, run the following cell and report the frequent patterns and rules associated with it. The code takes around 1m15s to finish on a M1 chip."
   ]
  },
  {
   "cell_type": "code",
   "execution_count": 3,
   "metadata": {},
   "outputs": [
    {
     "name": "stdout",
     "output_type": "stream",
     "text": [
      "\n",
      "------------------------ RULES:\n"
     ]
    }
   ],
   "source": [
    "#No need \n",
    "from hw5code.apriori import * \n",
    "input_file = read_data('./data/yelp.csv') \n",
    "min_support = 50\n",
    "min_conf = 0.25\n",
    "items, rules = run_apriori(input_file, min_support, min_conf)\n",
    "name_map = read_name_map('./data/id_name.csv')\n",
    "print_items_rules(items, rules, ignore_one_item_set=True, name_map=name_map)"
   ]
  },
  {
   "cell_type": "markdown",
   "metadata": {},
   "source": [
    "## 3. Correlation Analysis (10 pts)\n",
    "<span style=\"color:red\"> Note: This is a \"question-answer\" style problem. You do not need to code anything and you are required to calculate by hand (with a scientific calculator). </span>"
   ]
  },
  {
   "cell_type": "markdown",
   "metadata": {},
   "source": [
    "##### Table 2\n",
    "| --- | Beer | No Beer | Total | \n",
    "| --- | --- | --- | --- | \n",
    "| Nuts | 150 | 700 | 850 | \n",
    "| No Nuts | 350 | 8800 | 9150 |\n",
    "| Total | 500 | 9500 | 10000 |\n"
   ]
  },
  {
   "cell_type": "markdown",
   "metadata": {},
   "source": [
    "Table 2 shows how many transactions containing beer and/or nuts among 10000 transactions.<br>\n",
    "\n",
    "\n",
    "Answer the following questions:<br>\n",
    "\n",
    "3.1 Calculate `confidence`,`lift` and `all_confidence` between buying beer and buying nuts. <br>\n",
    "3.2 What are you conclusions of the relationship between buying beer and buying nuts? Justify your conclusion with the previous measurements you calculated ealier.  "
   ]
  },
  {
   "cell_type": "markdown",
   "metadata": {},
   "source": [
    "#### Answer"
   ]
  },
  {
   "cell_type": "markdown",
   "metadata": {},
   "source": [
    "## 4. Sequential Pattern Mining (GSP Algorithm) (16 pts)                                                                                                                                                                                      \n",
    "<span style=\"color:red\"> Note: This is a \"question-answer\" style problem. You do not need to code anything and you are required to calculate by hand (with a scientific calculator). </span>\n",
    "\n",
    "4.1 For a sequence $s = <ab(cd)(ef)>$, how many events or elements does it contain? What is the length of $s$? How many non-empty subsequences does s contain? <br> \n",
    "4.2 Suppose we have $L_3 = \\{ <(ac)e> , <b(cd)> , <bce>, <a(cd)>, <(ab)d>, <(ab)c> \\}$, as the frequent 3-sequences, write down all the candidate 4-sequences $C_4$ with the details of the join and pruning steps. "
   ]
  },
  {
   "cell_type": "markdown",
   "metadata": {},
   "source": [
    "#### Answers"
   ]
  },
  {
   "cell_type": "markdown",
   "metadata": {},
   "source": [
    "# End of Homework 5"
   ]
  }
 ],
 "metadata": {
  "kernelspec": {
   "display_name": "Python 3 (ipykernel)",
   "language": "python",
   "name": "python3"
  },
  "language_info": {
   "codemirror_mode": {
    "name": "ipython",
    "version": 3
   },
   "file_extension": ".py",
   "mimetype": "text/x-python",
   "name": "python",
   "nbconvert_exporter": "python",
   "pygments_lexer": "ipython3",
   "version": "3.10.9"
  }
 },
 "nbformat": 4,
 "nbformat_minor": 4
}
