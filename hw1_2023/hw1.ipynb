{
 "cells": [
  {
   "cell_type": "markdown",
   "metadata": {},
   "source": [
    "# CS145 Howework 1 \n",
    "\n",
    "<span style=\"color:red\"> **Important Note:** </span>\n",
    "The submission deadline for all homeworks are one week from its release date.\n",
    "HW1 is due on **11:59 PM PT, April 19 (Wednesday)**. Please submit through GradeScope (you will receive an invitation for CS145 Spring 2023).\n",
    "\n",
    "## Before You Start\n",
    "\n",
    "You need to first create HW1 conda environment using `cs145hw1.yml`. This file provides the env name and necessary packages for this tasks. If you have `conda` installed, you may create, activate and deactivate an environment using the following commands:\n",
    "\n",
    "```\n",
    "conda create -f cs145hw1.yml\n",
    "conda activate hw1\n",
    "conda deactivate\n",
    "```\n",
    "Here are some references about conda: [conda](https://docs.conda.io/projects/conda/en/latest/user-guide/tasks/manage-environments.html).\n",
    "\n",
    "You should not delete any code cells in this notebook. If you change any code outside the blocks that you are allowed to edit (between `STRART/END YOUR CODE HERE`), you will need to highlight these changes. You may add additional cells to help explain your results and observations."
   ]
  },
  {
   "cell_type": "code",
   "execution_count": 1,
   "metadata": {},
   "outputs": [],
   "source": [
    "import numpy as np \n",
    "import pandas as pd\n",
    "import sys\n",
    "import random as rd\n",
    "import matplotlib.pyplot as plt\n",
    "%load_ext autoreload\n",
    "%autoreload 2"
   ]
  },
  {
   "cell_type": "markdown",
   "metadata": {},
   "source": [
    "If you can successfully run the code above, there will be no problem for environment setting."
   ]
  },
  {
   "cell_type": "markdown",
   "metadata": {},
   "source": [
    "## 1. Linear regression \n",
    "This example will walk you through three optimization algorithms for linear regression. "
   ]
  },
  {
   "cell_type": "code",
   "execution_count": 2,
   "metadata": {},
   "outputs": [
    {
     "name": "stdout",
     "output_type": "stream",
     "text": [
      "Training data shape:  (1000, 100)\n",
      "Training labels shape: (1000,)\n"
     ]
    }
   ],
   "source": [
    "from hw1code.linear_regression import LinearRegression\n",
    "\n",
    "lm=LinearRegression()\n",
    "lm.load_data('./data/linear-regression-train.csv','./data/linear-regression-test.csv')\n",
    "# As a sanity check, we print out the size of the training data (1000, 100) and training labels (1000,)\n",
    "print('Training data shape: ', lm.train_x.shape)\n",
    "print('Training labels shape:', lm.train_y.shape)"
   ]
  },
  {
   "cell_type": "markdown",
   "metadata": {},
   "source": [
    "## 1.1 Closed form solution\n",
    "In this section, complete the `getBeta` function in `linear_regression.py`, which compute the close form solution of $\\hat{\\beta}$.\n",
    "\n",
    "To train you modelm use `lm.train('0')` function.\n",
    "\n",
    "Compute the training error and the testing error using `lm.predict` and `lm.compute_mse`."
   ]
  },
  {
   "cell_type": "code",
   "execution_count": 3,
   "metadata": {},
   "outputs": [
    {
     "name": "stdout",
     "output_type": "stream",
     "text": [
      "Learning Algorithm Type:  0\n",
      "getBeta p: 101\n",
      "Training error is:  0.08693886675396784\n",
      "Testing error is:  0.11017540281675801\n"
     ]
    }
   ],
   "source": [
    "from hw1code.linear_regression import LinearRegression\n",
    "\n",
    "lm=LinearRegression()\n",
    "lm.load_data('./data/linear-regression-train.csv','./data/linear-regression-test.csv')\n",
    "training_error= 0\n",
    "testing_error= 0\n",
    "#========================#\n",
    "# STRART YOUR CODE HERE  #\n",
    "#========================#\n",
    "## hint, for training error, you should get something around 0.08\n",
    "lm.normalize()\n",
    "beta = lm.train('0')\n",
    "\n",
    "training_error = lm.compute_mse(lm.predict(lm.train_x, beta), lm.train_y)\n",
    "testing_error = lm.compute_mse(lm.predict(lm.test_x, beta), lm.test_y)\n",
    "#========================#\n",
    "#   END YOUR CODE HERE   #\n",
    "#========================# \n",
    "print('Training error is: ', training_error)\n",
    "print('Testing error is: ', testing_error)"
   ]
  },
  {
   "cell_type": "markdown",
   "metadata": {},
   "source": [
    "## 1.2.Batch gradient descent\n",
    "In this section, complete the `getBetaBatchGradient` function in `linear_regression.py`, which computes the gradient of the objective fuction.\n",
    "\n",
    "To train you model, use `lm.train('1')` function.\n",
    "\n",
    "Compute the training error and the testing error using `lm.predict` and `lm.compute_mse`."
   ]
  },
  {
   "cell_type": "code",
   "execution_count": 4,
   "metadata": {},
   "outputs": [
    {
     "name": "stdout",
     "output_type": "stream",
     "text": [
      "Learning Algorithm Type:  1\n",
      "Training error is:  0.09863293671476969\n",
      "Testing error is:  0.13408550691262822\n"
     ]
    }
   ],
   "source": [
    "lm=LinearRegression()\n",
    "lm.load_data('./data/linear-regression-train.csv','./data/linear-regression-test.csv')\n",
    "training_error= 0\n",
    "testing_error= 0\n",
    "#========================#\n",
    "# STRART YOUR CODE HERE  #\n",
    "#========================#\n",
    "lm.normalize()\n",
    "beta = lm.train('1')\n",
    "\n",
    "training_error = lm.compute_mse(lm.predict(lm.train_x, beta), lm.train_y)\n",
    "testing_error = lm.compute_mse(lm.predict(lm.test_x, beta), lm.test_y)\n",
    "\n",
    "#========================#\n",
    "#   END YOUR CODE HERE   #\n",
    "#========================# \n",
    "print('Training error is: ', training_error)\n",
    "print('Testing error is: ', testing_error)"
   ]
  },
  {
   "cell_type": "markdown",
   "metadata": {},
   "source": [
    "## 1.3.Stochastic gadient descent \n",
    "In this section, complete the `getBetaStochasticGradient` function in `linear_regression.py`, which computes an estimated gradient of the objective function.\n",
    "\n",
    "To train you model, use `lm.train('2')` function.\n",
    "\n",
    "Compute the training error and the testing error using `lm.predict` and `lm.compute_mse`."
   ]
  },
  {
   "cell_type": "code",
   "execution_count": 5,
   "metadata": {},
   "outputs": [
    {
     "name": "stdout",
     "output_type": "stream",
     "text": [
      "Learning Algorithm Type:  1\n",
      "Training error is:  0.09918731854480163\n",
      "Testing error is:  0.1337090695005499\n"
     ]
    }
   ],
   "source": [
    "lm=LinearRegression()\n",
    "lm.load_data('./data/linear-regression-train.csv','./data/linear-regression-test.csv')\n",
    "training_error= 0\n",
    "testing_error= 0\n",
    "#========================#\n",
    "# STRART YOUR CODE HERE  #\n",
    "#========================#\n",
    "lm.normalize()\n",
    "beta = lm.train('1')\n",
    "\n",
    "training_error = lm.compute_mse(lm.predict(lm.train_x, beta), lm.train_y)\n",
    "testing_error = lm.compute_mse(lm.predict(lm.test_x, beta), lm.test_y)\n",
    "#========================#\n",
    "#   END YOUR CODE HERE   #\n",
    "#========================# \n",
    "print('Training error is: ', training_error)\n",
    "print('Testing error is: ', testing_error)"
   ]
  },
  {
   "cell_type": "markdown",
   "metadata": {},
   "source": [
    "### Questions: \n",
    "1. Ridge regression adds an L2 regularization term to the original objective function. The objective function becomes the following: \n",
    "    $$ J(\\beta) = \\frac{1}{2n} ||X\\beta - Y ||^2 + \\frac{\\lambda}{2n} \\beta^T\\beta ,$$ \n",
    "where $\\lambda \\leq 0$ is a hyper parameter that controls the trade-off. Take the derivative of this provided objective function and derive the new closed form solution for $\\beta$."
   ]
  },
  {
   "cell_type": "markdown",
   "metadata": {},
   "source": [
    "### Your answer here: \n"
   ]
  },
  {
   "cell_type": "markdown",
   "metadata": {},
   "source": [
    "https://drive.google.com/file/d/1HVBWWUYsW8VAhC9__33toGDcJxoUxCcJ/view?usp=share_link"
   ]
  },
  {
   "cell_type": "markdown",
   "metadata": {},
   "source": [
    "## 2. Logistic regression \n",
    "This example will walk you through algorithms for logistic regression "
   ]
  },
  {
   "cell_type": "code",
   "execution_count": 6,
   "metadata": {},
   "outputs": [
    {
     "name": "stdout",
     "output_type": "stream",
     "text": [
      "Training data shape:  (1000, 5)\n",
      "Training labels shape: (1000,)\n"
     ]
    }
   ],
   "source": [
    "from hw1code.logistic_regression import LogisticRegression\n",
    "\n",
    "lm=LogisticRegression()\n",
    "lm.load_data('./data/logistic-regression-train.csv','./data/logistic-regression-test.csv')\n",
    "# As a sanity chech, we print out the size of the training data (1000, 5) and training labels (1000,)\n",
    "print('Training data shape: ', lm.train_x.shape)\n",
    "print('Training labels shape:', lm.train_y.shape)"
   ]
  },
  {
   "cell_type": "markdown",
   "metadata": {},
   "source": [
    "## 2.1 Batch gradiend descent\n",
    "In this section, complete the `getBeta_BatchGradient` in `logistic_regression.py`, which computes the gradient of the log likelihoood function. \n",
    "\n",
    "Complete the `compute_avglogL` function in `logistic_regression.py` for sanity check, you should get something around 0.46.\n",
    "\n",
    "To train you model, use `lm.train('0')` function.\n",
    "\n",
    "Compute the training and testing accuracy using `lm.predict` and `lm.compute_accuracy`. "
   ]
  },
  {
   "cell_type": "code",
   "execution_count": 7,
   "metadata": {},
   "outputs": [
    {
     "name": "stdout",
     "output_type": "stream",
     "text": [
      "beta shape is: (6,)\n",
      "x shape is: (1000, 6)\n",
      "y shape is: (1000,)\n",
      "average logL for iteration 0: -0.5392168671552291 \t\n",
      "average logL for iteration 1000: -0.46010037535085313 \t\n",
      "average logL for iteration 2000: -0.46010037535085313 \t\n",
      "average logL for iteration 3000: -0.46010037535085313 \t\n",
      "average logL for iteration 4000: -0.46010037535085313 \t\n",
      "average logL for iteration 5000: -0.46010037535085313 \t\n",
      "average logL for iteration 6000: -0.46010037535085313 \t\n",
      "average logL for iteration 7000: -0.46010037535085313 \t\n",
      "average logL for iteration 8000: -0.46010037535085313 \t\n",
      "average logL for iteration 9000: -0.46010037535085313 \t\n",
      "Training avgLogL:  -0.4601003753508529\n",
      "Training accuracy is:  0\n",
      "Testing accuracy is:  0\n"
     ]
    }
   ],
   "source": [
    "lm=LogisticRegression()\n",
    "lm.load_data('./data/logistic-regression-train.csv','./data/logistic-regression-test.csv')\n",
    "training_accuracy= 0\n",
    "testing_accuracy= 0\n",
    "lm.normalize()  # apply z-score normalization to the data\n",
    "#========================#\n",
    "# STRART YOUR CODE HERE  #\n",
    "#========================#\n",
    "lm.normalize()\n",
    "beta = lm.train('0')\n",
    "\n",
    "train_pred = lm.predict(lm.train_x, beta)\n",
    "training_error = lm.compute_accuracy(train_pred, lm.train_y)\n",
    "test_pred = lm.predict(lm.test_x, beta)\n",
    "testing_error = lm.compute_accuracy(test_pred, lm.test_y)\n",
    "#========================#\n",
    "#   END YOUR CODE HERE   #\n",
    "#========================# \n",
    "print('Training accuracy is: ', training_accuracy)\n",
    "print('Testing accuracy is: ', testing_accuracy)\n",
    "#logl vals are similar to those on piazza but I dont understand why the accuracies are 0"
   ]
  },
  {
   "cell_type": "markdown",
   "metadata": {},
   "source": [
    "## 2.2 Newton Raphhson\n",
    "In this section, complete the `getBeta_Newton` function in `logistic_regression.py`, which makes use of both first and second derivatives.\n",
    "\n",
    "To train you model, use `lm.train('1')` function.\n",
    "\n",
    "Compute the training and testing accuracy using `lm.predict` and `lm.compute_accuracy`."
   ]
  },
  {
   "cell_type": "code",
   "execution_count": 8,
   "metadata": {},
   "outputs": [
    {
     "name": "stdout",
     "output_type": "stream",
     "text": [
      "average logL for iteration 0: -inf \t\n"
     ]
    },
    {
     "name": "stderr",
     "output_type": "stream",
     "text": [
      "/home/josh/CS145/hw1_2023/hw1code/logistic_regression.py:41: RuntimeWarning: overflow encountered in exp\n",
      "  avglogL = avglogL + y[iter]*(xit @ beta) - np.log(1 + np.exp(xit @ beta))\n",
      "/home/josh/CS145/hw1_2023/hw1code/logistic_regression.py:29: RuntimeWarning: overflow encountered in exp\n",
      "  return 1 / (1 + np.exp(-z))\n"
     ]
    },
    {
     "name": "stdout",
     "output_type": "stream",
     "text": [
      "average logL for iteration 500: -inf \t\n",
      "average logL for iteration 1000: -inf \t\n",
      "average logL for iteration 1500: -inf \t\n",
      "average logL for iteration 2000: -inf \t\n",
      "average logL for iteration 2500: -inf \t\n",
      "average logL for iteration 3000: -inf \t\n",
      "average logL for iteration 3500: -inf \t\n",
      "average logL for iteration 4000: -inf \t\n",
      "average logL for iteration 4500: -inf \t\n",
      "average logL for iteration 5000: -inf \t\n",
      "average logL for iteration 5500: -inf \t\n",
      "average logL for iteration 6000: -inf \t\n",
      "average logL for iteration 6500: -inf \t\n",
      "average logL for iteration 7000: -inf \t\n",
      "average logL for iteration 7500: -inf \t\n",
      "average logL for iteration 8000: -inf \t\n",
      "average logL for iteration 8500: -inf \t\n",
      "average logL for iteration 9000: -inf \t\n",
      "average logL for iteration 9500: -inf \t\n",
      "Training avgLogL:  -inf\n",
      "Training accuracy is:  0\n",
      "Testing accuracy is:  0\n"
     ]
    }
   ],
   "source": [
    "lm=LogisticRegression()\n",
    "lm.load_data('./data/logistic-regression-train.csv','./data/logistic-regression-test.csv')\n",
    "training_accuracy= 0\n",
    "testing_accuracy= 0\n",
    "#========================#\n",
    "# STRART YOUR CODE HERE  #\n",
    "#========================#\n",
    "lm.normalize()\n",
    "beta = lm.train('1')\n",
    "\n",
    "train_pred = lm.predict(lm.train_x, beta)\n",
    "training_error = lm.compute_accuracy(train_pred, lm.train_y)\n",
    "test_pred = lm.predict(lm.test_x, beta)\n",
    "testing_error = lm.compute_accuracy(test_pred, lm.test_y)\n",
    "#========================#\n",
    "#   END YOUR CODE HERE   #\n",
    "#========================# \n",
    "print('Training accuracy is: ', training_accuracy)\n",
    "print('Testing accuracy is: ', testing_accuracy)"
   ]
  },
  {
   "cell_type": "markdown",
   "metadata": {},
   "source": [
    "### Questions: \n",
    "1. Compare the accuracy on the testing dataset for each version. Are they the same? Why or why not?"
   ]
  },
  {
   "cell_type": "markdown",
   "metadata": {},
   "source": [
    "### Your answer here:"
   ]
  },
  {
   "cell_type": "markdown",
   "metadata": {},
   "source": [
    "I could not get the functions to work =("
   ]
  },
  {
   "cell_type": "markdown",
   "metadata": {},
   "source": [
    "## 2.3 Visualize the decision boundary on a toy dataset\n",
    "\n",
    "In this subsection, you will use the above implementation for another small dataset where each datapoint $x$ only has only two features $(x_1, x_2)$ to visualize the decision boundary of logistic regression model."
   ]
  },
  {
   "cell_type": "code",
   "execution_count": 9,
   "metadata": {},
   "outputs": [
    {
     "name": "stdout",
     "output_type": "stream",
     "text": [
      "Training data shape:  (99, 2)\n",
      "Training labels shape: (99,)\n"
     ]
    }
   ],
   "source": [
    "from hw1code.logistic_regression import LogisticRegression\n",
    "\n",
    "lm=LogisticRegression(verbose = False)\n",
    "lm.load_data('./data/logistic-regression-toy.csv','./data/logistic-regression-toy.csv')\n",
    "# As a sanity chech, we print out the size of the training data (99,2) and training labels (99,)\n",
    "print('Training data shape: ', lm.train_x.shape)\n",
    "print('Training labels shape:', lm.train_y.shape)"
   ]
  },
  {
   "cell_type": "markdown",
   "metadata": {},
   "source": [
    "In the following block, you can apply the same implementation of logistic regression model (either in 2.1 or 2.2) to the toy dataset. Print out the $\\hat{\\beta}$ after training and accuracy on the train set.  "
   ]
  },
  {
   "cell_type": "code",
   "execution_count": 10,
   "metadata": {},
   "outputs": [
    {
     "name": "stdout",
     "output_type": "stream",
     "text": [
      "beta shape is: (3,)\n",
      "x shape is: (99, 3)\n",
      "y shape is: (99,)\n",
      "Training avgLogL:  -0.3291474312957121\n",
      "[-0.04717577  1.46005896  2.06586134]\n",
      "Training accuracy is:  0.8888888888888888\n"
     ]
    }
   ],
   "source": [
    "training_accuracy= 0\n",
    "lm.normalize()\n",
    "#========================#\n",
    "# STRART YOUR CODE HERE  #\n",
    "#========================#\n",
    "beta = lm.train('0')\n",
    "\n",
    "training_accuracy = lm.compute_accuracy(lm.predict(lm.train_x, beta), lm.train_y)\n",
    "print(beta)\n",
    "#========================#\n",
    "#   END YOUR CODE HERE   #\n",
    "#========================# \n",
    "print('Training accuracy is: ', training_accuracy)\n",
    "#why does this work here but not in the previous cells?"
   ]
  },
  {
   "cell_type": "markdown",
   "metadata": {},
   "source": [
    "Next, we try to plot the decision boundary of your learned logistic regression classifier. Generally, a decision boundary is the region of a space in which the output label of a classifier is ambiguous. That is, in the given toy data, given a datapoint $x=(x_1, x_2)$ on the decision boundary, the logistic regression classifier cannot decide whether $y=0$ or $y=1$. "
   ]
  },
  {
   "cell_type": "markdown",
   "metadata": {},
   "source": [
    "### Question\n",
    "\n",
    "Is the decision boundary for logistic regression linear? Why or why not?"
   ]
  },
  {
   "cell_type": "markdown",
   "metadata": {},
   "source": [
    "### Your answer here:"
   ]
  },
  {
   "cell_type": "markdown",
   "metadata": {},
   "source": [
    "<span style=\"color:blue\"> Yes as the decision boundary where the sigmoid function is equal to .5.  This occurs when the input to the sigmoid function is 0 as e^0 is one so 1/(1+e^0) is 1/2.  </span>"
   ]
  },
  {
   "cell_type": "markdown",
   "metadata": {},
   "source": [
    "Draw the decision boundary in the following cell. Note that the code to plot the raw data points are given. You may need `plt.plot` function (see [here](https://matplotlib.org/tutorials/introductory/pyplot.html)). "
   ]
  },
  {
   "cell_type": "code",
   "execution_count": 11,
   "metadata": {},
   "outputs": [
    {
     "data": {
      "image/png": "[encoded data removed]",
      "text/plain": [
       "<Figure size 640x480 with 1 Axes>"
      ]
     },
     "metadata": {},
     "output_type": "display_data"
    }
   ],
   "source": [
    "# scatter plot the raw data\n",
    "df = pd.concat([lm.train_x, lm.train_y], axis=1)\n",
    "groups = df.groupby(\"y\")\n",
    "for name, group in groups:\n",
    "    plt.plot(group[\"x1\"], group[\"x2\"], marker=\"o\", linestyle=\"\", label=name)\n",
    "\n",
    "# plot the decision boundary on top of the scattered points\n",
    "x1_vec = np.linspace(lm.train_x[\"x1\"].min(),lm.train_x[\"x1\"].max(),2)  ## x axis of the boundary is also given\n",
    "#========================#\n",
    "# STRART YOUR CODE HERE  #\n",
    "#========================#\n",
    "x1 = np.arange(-2, 2, 0.1)\n",
    "#y = b0 +b1x1 + b2x2\n",
    "#since decision boundary at y=0, and we are iterating through x1, we find x2 for the decision boundary\n",
    "x2 = -(x1*beta[1] + beta[0])/beta[2]\n",
    "plt.plot(x1, x2)\n",
    "#========================#\n",
    "#   END YOUR CODE HERE   #\n",
    "#========================#\n",
    "plt.show()"
   ]
  },
  {
   "cell_type": "markdown",
   "metadata": {},
   "source": [
    "# End of Homework 1"
   ]
  }
 ],
 "metadata": {
  "kernelspec": {
   "display_name": "Python 3 (ipykernel)",
   "language": "python",
   "name": "python3"
  },
  "language_info": {
   "codemirror_mode": {
    "name": "ipython",
    "version": 3
   },
   "file_extension": ".py",
   "mimetype": "text/x-python",
   "name": "python",
   "nbconvert_exporter": "python",
   "pygments_lexer": "ipython3",
   "version": "3.10.9"
  }
 },
 "nbformat": 4,
 "nbformat_minor": 4
}
